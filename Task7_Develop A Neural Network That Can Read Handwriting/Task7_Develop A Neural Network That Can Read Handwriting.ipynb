{
 "cells": [
  {
   "cell_type": "markdown",
   "metadata": {},
   "source": [
    "<h1>LetsGrowMore (LGMVIPFEB2022) - Data Science Intern</h1>\n",
    "    \n",
    "<h3>Author: Sourabh Vijay Dohare <br></h3>\n",
    "<h3>Task7 : Develop A Neural Network That Can Read Handwriting<br>\n",
    "Level : Intermediate<br>\n",
    "Language : Python</h3>"
   ]
  },
  {
   "cell_type": "code",
   "execution_count": 3,
   "metadata": {},
   "outputs": [],
   "source": [
    "import tensorflow as tf\n",
    "from tensorflow.keras import datasets, models, layers\n",
    "import numpy as np\n",
    "import matplotlib.pyplot as plt"
   ]
  },
  {
   "cell_type": "markdown",
   "metadata": {},
   "source": [
    "<h3>Loading MNIST Dataset</h3>"
   ]
  },
  {
   "cell_type": "code",
   "execution_count": 4,
   "metadata": {},
   "outputs": [],
   "source": [
    "(train_img, train_labels),(test_img, test_labels) = datasets.mnist.load_data()"
   ]
  },
  {
   "cell_type": "code",
   "execution_count": 5,
   "metadata": {},
   "outputs": [],
   "source": [
    "train_img, test_img = train_img/255.0 , test_img/255.0"
   ]
  },
  {
   "cell_type": "code",
   "execution_count": 6,
   "metadata": {},
   "outputs": [
    {
     "data": {
      "text/plain": [
       "60000"
      ]
     },
     "execution_count": 6,
     "metadata": {},
     "output_type": "execute_result"
    }
   ],
   "source": [
    "len(train_img)"
   ]
  },
  {
   "cell_type": "code",
   "execution_count": 7,
   "metadata": {},
   "outputs": [
    {
     "data": {
      "text/plain": [
       "10000"
      ]
     },
     "execution_count": 7,
     "metadata": {},
     "output_type": "execute_result"
    }
   ],
   "source": [
    "len(test_img)"
   ]
  },
  {
   "cell_type": "markdown",
   "metadata": {},
   "source": [
    "<h3>Visualization of image</h3>"
   ]
  },
  {
   "cell_type": "code",
   "execution_count": 8,
   "metadata": {},
   "outputs": [
    {
     "data": {
      "text/plain": [
       "<matplotlib.image.AxesImage at 0x24c19ff1f88>"
      ]
     },
     "execution_count": 8,
     "metadata": {},
     "output_type": "execute_result"
    },
    {
     "data": {
      "image/png": "[encoded data removed]",
      "text/plain": [
       "<Figure size 432x288 with 1 Axes>"
      ]
     },
     "metadata": {
      "needs_background": "light"
     },
     "output_type": "display_data"
    }
   ],
   "source": [
    "plt.imshow(train_img[0],cmap=plt.cm.gray_r, interpolation='nearest')"
   ]
  },
  {
   "cell_type": "code",
   "execution_count": 9,
   "metadata": {},
   "outputs": [
    {
     "data": {
      "image/png": "[encoded data removed]",
      "text/plain": [
       "<Figure size 720x720 with 25 Axes>"
      ]
     },
     "metadata": {},
     "output_type": "display_data"
    }
   ],
   "source": [
    "plt.figure(figsize=(10,10))\n",
    "for i in range(25):\n",
    "    plt.subplot(5, 5, i+1)\n",
    "    plt.xticks([])\n",
    "    plt.yticks([])\n",
    "    plt.grid(False)\n",
    "    plt.imshow(train_img[i], cmap=plt.cm.binary)\n",
    "plt.show()"
   ]
  },
  {
   "cell_type": "markdown",
   "metadata": {},
   "source": [
    "<h3>Training the Model</h3>"
   ]
  },
  {
   "cell_type": "code",
   "execution_count": 10,
   "metadata": {},
   "outputs": [],
   "source": [
    "model = tf.keras.models.Sequential([               # sequential model\n",
    "    tf.keras.layers.Flatten(input_shape=(28,28)),\n",
    "    tf.keras.layers.Dense(128, activation='relu'),\n",
    "    tf.keras.layers.Dense(10)\n",
    "])"
   ]
  },
  {
   "cell_type": "code",
   "execution_count": 11,
   "metadata": {},
   "outputs": [],
   "source": [
    "model.compile(\n",
    "    optimizer = tf.keras.optimizers.Adam(0.001),\n",
    "    loss = tf.keras.losses.SparseCategoricalCrossentropy(from_logits=True),\n",
    "    metrics = [tf.keras.metrics.SparseCategoricalAccuracy()]\n",
    ")"
   ]
  },
  {
   "cell_type": "code",
   "execution_count": 12,
   "metadata": {},
   "outputs": [
    {
     "name": "stdout",
     "output_type": "stream",
     "text": [
      "1875/1875 [==============================] - 4s 2ms/step - loss: 0.2658 - sparse_categorical_accuracy: 0.9240 - val_loss: 0.1526 - val_sparse_categorical_accuracy: 0.9513\n"
     ]
    },
    {
     "data": {
      "text/plain": [
       "<keras.callbacks.History at 0x24c1a800dc8>"
      ]
     },
     "execution_count": 12,
     "metadata": {},
     "output_type": "execute_result"
    }
   ],
   "source": [
    "model.fit(\n",
    "    train_img, train_labels,\n",
    "    epochs = 1,\n",
    "    validation_data = (test_img, test_labels)\n",
    ")"
   ]
  },
  {
   "cell_type": "code",
   "execution_count": 13,
   "metadata": {},
   "outputs": [],
   "source": [
    "model.add(layers.Flatten())\n",
    "model.add(layers.Dense(64, activation='relu'))\n",
    "model.add(layers.Dense(10))"
   ]
  },
  {
   "cell_type": "markdown",
   "metadata": {},
   "source": [
    "<h3>Compiling the Model</h3>"
   ]
  },
  {
   "cell_type": "code",
   "execution_count": 14,
   "metadata": {},
   "outputs": [],
   "source": [
    "model.compile(optimizer='adam', loss=tf.keras.losses.SparseCategoricalCrossentropy(from_logits=True),metrics = ['accuracy'])"
   ]
  },
  {
   "cell_type": "markdown",
   "metadata": {},
   "source": [
    "<h3>Training the Model</h3>"
   ]
  },
  {
   "cell_type": "code",
   "execution_count": 26,
   "metadata": {},
   "outputs": [
    {
     "name": "stdout",
     "output_type": "stream",
     "text": [
      "Epoch 1/25\n",
      "1875/1875 [==============================] - 3s 2ms/step - loss: 0.0344 - accuracy: 0.9890 - val_loss: 0.0991 - val_accuracy: 0.9729\n",
      "Epoch 2/25\n",
      "1875/1875 [==============================] - 3s 2ms/step - loss: 0.0328 - accuracy: 0.9891 - val_loss: 0.0837 - val_accuracy: 0.9761\n",
      "Epoch 3/25\n",
      "1875/1875 [==============================] - 4s 2ms/step - loss: 0.0257 - accuracy: 0.9915 - val_loss: 0.0874 - val_accuracy: 0.9768\n",
      "Epoch 4/25\n",
      "1875/1875 [==============================] - 3s 2ms/step - loss: 0.0223 - accuracy: 0.9927 - val_loss: 0.0962 - val_accuracy: 0.9771\n",
      "Epoch 5/25\n",
      "1875/1875 [==============================] - 4s 2ms/step - loss: 0.0210 - accuracy: 0.9934 - val_loss: 0.1013 - val_accuracy: 0.9783\n",
      "Epoch 6/25\n",
      "1875/1875 [==============================] - 4s 2ms/step - loss: 0.0196 - accuracy: 0.9932 - val_loss: 0.1050 - val_accuracy: 0.9760\n",
      "Epoch 7/25\n",
      "1875/1875 [==============================] - 4s 2ms/step - loss: 0.0168 - accuracy: 0.9944 - val_loss: 0.1021 - val_accuracy: 0.9773\n",
      "Epoch 8/25\n",
      "1875/1875 [==============================] - 4s 2ms/step - loss: 0.0167 - accuracy: 0.9946 - val_loss: 0.1167 - val_accuracy: 0.9758\n",
      "Epoch 9/25\n",
      "1875/1875 [==============================] - 4s 2ms/step - loss: 0.0135 - accuracy: 0.9956 - val_loss: 0.1090 - val_accuracy: 0.9775\n",
      "Epoch 10/25\n",
      "1875/1875 [==============================] - 4s 2ms/step - loss: 0.0150 - accuracy: 0.9951 - val_loss: 0.1164 - val_accuracy: 0.9765\n",
      "Epoch 11/25\n",
      "1875/1875 [==============================] - 4s 2ms/step - loss: 0.0126 - accuracy: 0.9962 - val_loss: 0.1344 - val_accuracy: 0.9757\n",
      "Epoch 12/25\n",
      "1875/1875 [==============================] - 5s 3ms/step - loss: 0.0134 - accuracy: 0.9959 - val_loss: 0.1200 - val_accuracy: 0.9770\n",
      "Epoch 13/25\n",
      "1875/1875 [==============================] - 4s 2ms/step - loss: 0.0111 - accuracy: 0.9962 - val_loss: 0.1291 - val_accuracy: 0.9748\n",
      "Epoch 14/25\n",
      "1875/1875 [==============================] - 5s 2ms/step - loss: 0.0115 - accuracy: 0.9963 - val_loss: 0.1058 - val_accuracy: 0.9808\n",
      "Epoch 15/25\n",
      "1875/1875 [==============================] - 4s 2ms/step - loss: 0.0109 - accuracy: 0.9964 - val_loss: 0.1287 - val_accuracy: 0.9775\n",
      "Epoch 16/25\n",
      "1875/1875 [==============================] - 5s 3ms/step - loss: 0.0089 - accuracy: 0.9970 - val_loss: 0.1342 - val_accuracy: 0.9782\n",
      "Epoch 17/25\n",
      "1875/1875 [==============================] - 4s 2ms/step - loss: 0.0145 - accuracy: 0.9955 - val_loss: 0.1324 - val_accuracy: 0.9769\n",
      "Epoch 18/25\n",
      "1875/1875 [==============================] - 5s 3ms/step - loss: 0.0082 - accuracy: 0.9974 - val_loss: 0.1508 - val_accuracy: 0.9769\n",
      "Epoch 19/25\n",
      "1875/1875 [==============================] - 4s 2ms/step - loss: 0.0107 - accuracy: 0.9968 - val_loss: 0.1241 - val_accuracy: 0.9798\n",
      "Epoch 20/25\n",
      "1875/1875 [==============================] - 4s 2ms/step - loss: 0.0103 - accuracy: 0.9967 - val_loss: 0.1470 - val_accuracy: 0.9765\n",
      "Epoch 21/25\n",
      "1875/1875 [==============================] - 5s 3ms/step - loss: 0.0096 - accuracy: 0.9971 - val_loss: 0.1438 - val_accuracy: 0.9774\n",
      "Epoch 22/25\n",
      "1875/1875 [==============================] - 4s 2ms/step - loss: 0.0098 - accuracy: 0.9969 - val_loss: 0.1497 - val_accuracy: 0.9773\n",
      "Epoch 23/25\n",
      "1875/1875 [==============================] - 5s 3ms/step - loss: 0.0088 - accuracy: 0.9970 - val_loss: 0.1481 - val_accuracy: 0.9783\n",
      "Epoch 24/25\n",
      "1875/1875 [==============================] - 4s 2ms/step - loss: 0.0080 - accuracy: 0.9975 - val_loss: 0.1503 - val_accuracy: 0.9778\n",
      "Epoch 25/25\n",
      "1875/1875 [==============================] - 4s 2ms/step - loss: 0.0092 - accuracy: 0.9973 - val_loss: 0.1705 - val_accuracy: 0.9749\n"
     ]
    },
    {
     "data": {
      "text/plain": [
       "<keras.callbacks.History at 0x24c1aa65588>"
      ]
     },
     "execution_count": 26,
     "metadata": {},
     "output_type": "execute_result"
    }
   ],
   "source": [
    "model.fit(train_img, train_labels, epochs=25, validation_data=(test_img, test_labels))"
   ]
  },
  {
   "cell_type": "code",
   "execution_count": 27,
   "metadata": {},
   "outputs": [
    {
     "name": "stdout",
     "output_type": "stream",
     "text": [
      "Model: \"sequential\"\n",
      "_________________________________________________________________\n",
      "Layer (type)                 Output Shape              Param #   \n",
      "=================================================================\n",
      "flatten (Flatten)            (None, 784)               0         \n",
      "_________________________________________________________________\n",
      "dense (Dense)                (None, 128)               100480    \n",
      "_________________________________________________________________\n",
      "dense_1 (Dense)              (None, 10)                1290      \n",
      "_________________________________________________________________\n",
      "flatten_1 (Flatten)          (None, 10)                0         \n",
      "_________________________________________________________________\n",
      "dense_2 (Dense)              (None, 64)                704       \n",
      "_________________________________________________________________\n",
      "dense_3 (Dense)              (None, 10)                650       \n",
      "=================================================================\n",
      "Total params: 103,124\n",
      "Trainable params: 103,124\n",
      "Non-trainable params: 0\n",
      "_________________________________________________________________\n"
     ]
    }
   ],
   "source": [
    "model.summary()"
   ]
  },
  {
   "cell_type": "markdown",
   "metadata": {},
   "source": [
    "<h3>Evaluating the Model</h3>"
   ]
  },
  {
   "cell_type": "code",
   "execution_count": 28,
   "metadata": {},
   "outputs": [
    {
     "name": "stdout",
     "output_type": "stream",
     "text": [
      "313/313 [==============================] - 0s 998us/step - loss: 0.1705 - accuracy: 0.9749\n",
      "[0.17047053575515747, 0.9749000072479248]\n"
     ]
    }
   ],
   "source": [
    "print(model.evaluate(test_img,test_labels))"
   ]
  },
  {
   "cell_type": "code",
   "execution_count": 29,
   "metadata": {},
   "outputs": [
    {
     "data": {
      "text/plain": [
       "array([[-2.08951092e+01, -9.48202801e+00, -1.15451088e+01, ...,\n",
       "         2.33565636e+01, -1.17652950e+01, -2.89206803e-02],\n",
       "       [-1.79575043e+01, -3.91822004e+00,  2.97453804e+01, ...,\n",
       "        -9.91172504e+00, -2.89679222e+01, -6.38704033e+01],\n",
       "       [-1.81099567e+01,  1.40294695e+01, -7.72943115e+00, ...,\n",
       "        -5.58827066e+00,  3.74871778e+00, -1.86393490e+01],\n",
       "       ...,\n",
       "       [-4.23639832e+01, -2.99338112e+01, -3.29844437e+01, ...,\n",
       "        -4.24166870e+00, -1.06967001e+01,  2.09409189e+00],\n",
       "       [-2.41920719e+01, -2.37687817e+01, -3.15199566e+01, ...,\n",
       "        -2.65791073e+01,  6.23319745e-01, -1.98377686e+01],\n",
       "       [-1.52913656e+01, -4.20485802e+01, -1.86769829e+01, ...,\n",
       "        -6.83243561e+01, -3.50747261e+01, -3.45247345e+01]], dtype=float32)"
      ]
     },
     "execution_count": 29,
     "metadata": {},
     "output_type": "execute_result"
    }
   ],
   "source": [
    "y_pred=prediction=model.predict(test_img)\n",
    "y_pred"
   ]
  },
  {
   "cell_type": "code",
   "execution_count": 30,
   "metadata": {},
   "outputs": [
    {
     "data": {
      "text/plain": [
       "<matplotlib.image.AxesImage at 0x24c1a601b48>"
      ]
     },
     "execution_count": 30,
     "metadata": {},
     "output_type": "execute_result"
    },
    {
     "data": {
      "image/png": "[encoded data removed]",
      "text/plain": [
       "<Figure size 432x288 with 1 Axes>"
      ]
     },
     "metadata": {
      "needs_background": "light"
     },
     "output_type": "display_data"
    }
   ],
   "source": [
    "plt.imshow(test_img[4])"
   ]
  },
  {
   "cell_type": "code",
   "execution_count": 49,
   "metadata": {},
   "outputs": [
    {
     "name": "stdout",
     "output_type": "stream",
     "text": [
      "4\n"
     ]
    }
   ],
   "source": [
    "prediction=model.predict(test_img)\n",
    "print(np.argmax(prediction[4]))"
   ]
  },
  {
   "cell_type": "markdown",
   "metadata": {},
   "source": [
    "<h3>Our model predicted the number as 4, which is accurate</h3>"
   ]
  },
  {
   "cell_type": "code",
   "execution_count": 31,
   "metadata": {},
   "outputs": [
    {
     "data": {
      "text/plain": [
       "<matplotlib.image.AxesImage at 0x24c1ab0f448>"
      ]
     },
     "execution_count": 31,
     "metadata": {},
     "output_type": "execute_result"
    },
    {
     "data": {
      "image/png": "[encoded data removed]",
      "text/plain": [
       "<Figure size 432x288 with 1 Axes>"
      ]
     },
     "metadata": {
      "needs_background": "light"
     },
     "output_type": "display_data"
    }
   ],
   "source": [
    "plt.imshow(test_img[9])"
   ]
  },
  {
   "cell_type": "code",
   "execution_count": 32,
   "metadata": {},
   "outputs": [
    {
     "name": "stdout",
     "output_type": "stream",
     "text": [
      "9\n"
     ]
    }
   ],
   "source": [
    "prediction=model.predict(test_img)\n",
    "print(np.argmax(prediction[9]))"
   ]
  },
  {
   "cell_type": "markdown",
   "metadata": {},
   "source": [
    "<h3>Our model predicted the number as 9, which is accurate</h3>"
   ]
  },
  {
   "cell_type": "code",
   "execution_count": 47,
   "metadata": {},
   "outputs": [
    {
     "data": {
      "text/plain": [
       "<matplotlib.image.AxesImage at 0x24c1a1d0e08>"
      ]
     },
     "execution_count": 47,
     "metadata": {},
     "output_type": "execute_result"
    },
    {
     "data": {
      "image/png": "[encoded data removed]",
      "text/plain": [
       "<Figure size 432x288 with 1 Axes>"
      ]
     },
     "metadata": {
      "needs_background": "light"
     },
     "output_type": "display_data"
    }
   ],
   "source": [
    "plt.imshow(test_img[8])"
   ]
  },
  {
   "cell_type": "code",
   "execution_count": 48,
   "metadata": {},
   "outputs": [
    {
     "name": "stdout",
     "output_type": "stream",
     "text": [
      "5\n"
     ]
    }
   ],
   "source": [
    "prediction=model.predict(test_img)\n",
    "print(np.argmax(prediction[8]))"
   ]
  }
 ],
 "metadata": {
  "kernelspec": {
   "display_name": "Python 3",
   "language": "python",
   "name": "python3"
  },
  "language_info": {
   "codemirror_mode": {
    "name": "ipython",
    "version": 3
   },
   "file_extension": ".py",
   "mimetype": "text/x-python",
   "name": "python",
   "nbconvert_exporter": "python",
   "pygments_lexer": "ipython3",
   "version": "3.7.6"
  }
 },
 "nbformat": 4,
 "nbformat_minor": 4
}
